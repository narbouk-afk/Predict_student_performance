{
  "nbformat": 4,
  "nbformat_minor": 0,
  "metadata": {
    "colab": {
      "provenance": [],
      "collapsed_sections": [
        "eueQtG6FoCyN"
      ]
    },
    "kernelspec": {
      "name": "python3",
      "display_name": "Python 3"
    },
    "language_info": {
      "name": "python"
    }
  },
  "cells": [
    {
      "cell_type": "markdown",
      "source": [
        "# Install"
      ],
      "metadata": {
        "id": "eueQtG6FoCyN"
      }
    },
    {
      "cell_type": "code",
      "execution_count": null,
      "metadata": {
        "colab": {
          "base_uri": "https://localhost:8080/"
        },
        "id": "mc7nGFSpnqP_",
        "outputId": "3687f298-2413-4d17-eefe-6a41ae6b552a"
      },
      "outputs": [
        {
          "output_type": "stream",
          "name": "stdout",
          "text": [
            "Looking in indexes: https://pypi.org/simple, https://us-python.pkg.dev/colab-wheels/public/simple/\n",
            "Requirement already satisfied: kaggle in /usr/local/lib/python3.8/dist-packages (1.5.12)\n",
            "Requirement already satisfied: python-slugify in /usr/local/lib/python3.8/dist-packages (from kaggle) (8.0.0)\n",
            "Requirement already satisfied: six>=1.10 in /usr/local/lib/python3.8/dist-packages (from kaggle) (1.15.0)\n",
            "Requirement already satisfied: python-dateutil in /usr/local/lib/python3.8/dist-packages (from kaggle) (2.8.2)\n",
            "Requirement already satisfied: certifi in /usr/local/lib/python3.8/dist-packages (from kaggle) (2022.12.7)\n",
            "Requirement already satisfied: tqdm in /usr/local/lib/python3.8/dist-packages (from kaggle) (4.64.1)\n",
            "Requirement already satisfied: requests in /usr/local/lib/python3.8/dist-packages (from kaggle) (2.25.1)\n",
            "Requirement already satisfied: urllib3 in /usr/local/lib/python3.8/dist-packages (from kaggle) (1.24.3)\n",
            "Requirement already satisfied: text-unidecode>=1.3 in /usr/local/lib/python3.8/dist-packages (from python-slugify->kaggle) (1.3)\n",
            "Requirement already satisfied: idna<3,>=2.5 in /usr/local/lib/python3.8/dist-packages (from requests->kaggle) (2.10)\n",
            "Requirement already satisfied: chardet<5,>=3.0.2 in /usr/local/lib/python3.8/dist-packages (from requests->kaggle) (4.0.0)\n"
          ]
        }
      ],
      "source": [
        "pip install kaggle"
      ]
    },
    {
      "cell_type": "markdown",
      "source": [
        "#### links : \n",
        "\n",
        "https://github.com/narbouk-afk/Predict_student_performance\n",
        "\n",
        "https://www.kaggle.com/competitions/predict-student-performance-from-game-play"
      ],
      "metadata": {
        "id": "DjjyU70mnvum"
      }
    },
    {
      "cell_type": "code",
      "source": [],
      "metadata": {
        "id": "tqYPSHDzn2N2"
      },
      "execution_count": null,
      "outputs": []
    },
    {
      "cell_type": "markdown",
      "source": [
        "# Import"
      ],
      "metadata": {
        "id": "yl0PC8UhoHrq"
      }
    },
    {
      "cell_type": "code",
      "source": [
        "import pandas as pd"
      ],
      "metadata": {
        "id": "W_cWC1k708dO"
      },
      "execution_count": 2,
      "outputs": []
    },
    {
      "cell_type": "code",
      "source": [
        "from google.colab import drive\n",
        "drive.mount('/content/drive')"
      ],
      "metadata": {
        "colab": {
          "base_uri": "https://localhost:8080/"
        },
        "id": "Y_cQUPBOoJIK",
        "outputId": "37b92a2f-766a-482e-a517-8c36f7dbf717"
      },
      "execution_count": 3,
      "outputs": [
        {
          "output_type": "stream",
          "name": "stdout",
          "text": [
            "Drive already mounted at /content/drive; to attempt to forcibly remount, call drive.mount(\"/content/drive\", force_remount=True).\n"
          ]
        }
      ]
    },
    {
      "cell_type": "markdown",
      "source": [
        "# Data import"
      ],
      "metadata": {
        "id": "Hu9tUDiQrD3i"
      }
    },
    {
      "cell_type": "markdown",
      "source": [
        "## Complete Dataframe"
      ],
      "metadata": {
        "id": "K048xNZ6q1sB"
      }
    },
    {
      "cell_type": "code",
      "source": [
        "path = '/content/drive/My Drive/Dev/KaggleFDA/'\n",
        "train = pd.read_csv(path +'train.csv')\n",
        "target = 'price'\n",
        "features = [c for c in train.columns if c not in ['id', target]]\n",
        "train['split'] = 'train'\n",
        "test = pd.read_csv(path +'test.csv')\n",
        "test['split'] = 'test'\n",
        "data = pd.concat([train,test]).reset_index(drop=True)\n",
        "sub = pd.read_csv(path +'sample_submission.csv')"
      ],
      "metadata": {
        "id": "WvXosYaorDMb"
      },
      "execution_count": 4,
      "outputs": []
    },
    {
      "cell_type": "code",
      "source": [
        "train_labels =  pd.read_csv(path +'train_labels.csv')"
      ],
      "metadata": {
        "id": "hMjfdHpXSAWi"
      },
      "execution_count": 5,
      "outputs": []
    },
    {
      "cell_type": "code",
      "source": [
        "data.info()"
      ],
      "metadata": {
        "colab": {
          "base_uri": "https://localhost:8080/"
        },
        "id": "93r_PNMYqVPy",
        "outputId": "681cb3d4-936c-4580-bb0f-21da932f1de0"
      },
      "execution_count": 13,
      "outputs": [
        {
          "output_type": "stream",
          "name": "stdout",
          "text": [
            "<class 'pandas.core.frame.DataFrame'>\n",
            "RangeIndex: 13177939 entries, 0 to 13177938\n",
            "Data columns (total 22 columns):\n",
            " #   Column          Dtype  \n",
            "---  ------          -----  \n",
            " 0   session_id      int64  \n",
            " 1   index           int64  \n",
            " 2   elapsed_time    int64  \n",
            " 3   event_name      object \n",
            " 4   name            object \n",
            " 5   level           int64  \n",
            " 6   page            float64\n",
            " 7   room_coor_x     float64\n",
            " 8   room_coor_y     float64\n",
            " 9   screen_coor_x   float64\n",
            " 10  screen_coor_y   float64\n",
            " 11  hover_duration  float64\n",
            " 12  text            object \n",
            " 13  fqid            object \n",
            " 14  room_fqid       object \n",
            " 15  text_fqid       object \n",
            " 16  fullscreen      float64\n",
            " 17  hq              float64\n",
            " 18  music           float64\n",
            " 19  level_group     object \n",
            " 20  split           object \n",
            " 21  session_level   object \n",
            "dtypes: float64(9), int64(4), object(9)\n",
            "memory usage: 2.2+ GB\n"
          ]
        }
      ]
    },
    {
      "cell_type": "code",
      "source": [
        "data.head()"
      ],
      "metadata": {
        "colab": {
          "base_uri": "https://localhost:8080/",
          "height": 473
        },
        "id": "3TKtuA0S6xij",
        "outputId": "5db3999e-b093-430d-a489-b9d1f4e9c2dc"
      },
      "execution_count": 6,
      "outputs": [
        {
          "output_type": "execute_result",
          "data": {
            "text/plain": [
              "          session_id  index  elapsed_time      event_name   name  level  page  \\\n",
              "0  20090312431273200      0             0  cutscene_click  basic      0   NaN   \n",
              "1  20090312431273200      1          1323    person_click  basic      0   NaN   \n",
              "2  20090312431273200      2           831    person_click  basic      0   NaN   \n",
              "3  20090312431273200      3          1147    person_click  basic      0   NaN   \n",
              "4  20090312431273200      4          1863    person_click  basic      0   NaN   \n",
              "\n",
              "   room_coor_x  room_coor_y  screen_coor_x  ...  \\\n",
              "0  -413.991405  -159.314686          380.0  ...   \n",
              "1  -413.991405  -159.314686          380.0  ...   \n",
              "2  -413.991405  -159.314686          380.0  ...   \n",
              "3  -413.991405  -159.314686          380.0  ...   \n",
              "4  -412.991405  -159.314686          381.0  ...   \n",
              "\n",
              "                            text    fqid                       room_fqid  \\\n",
              "0                      undefined   intro  tunic.historicalsociety.closet   \n",
              "1  Whatcha doing over there, Jo?  gramps  tunic.historicalsociety.closet   \n",
              "2         Just talking to Teddy.  gramps  tunic.historicalsociety.closet   \n",
              "3     I gotta run to my meeting!  gramps  tunic.historicalsociety.closet   \n",
              "4            Can I come, Gramps?  gramps  tunic.historicalsociety.closet   \n",
              "\n",
              "                                           text_fqid fullscreen  hq  music  \\\n",
              "0               tunic.historicalsociety.closet.intro        NaN NaN    NaN   \n",
              "1  tunic.historicalsociety.closet.gramps.intro_0_...        NaN NaN    NaN   \n",
              "2  tunic.historicalsociety.closet.gramps.intro_0_...        NaN NaN    NaN   \n",
              "3  tunic.historicalsociety.closet.gramps.intro_0_...        NaN NaN    NaN   \n",
              "4  tunic.historicalsociety.closet.gramps.intro_0_...        NaN NaN    NaN   \n",
              "\n",
              "   level_group  split session_level  \n",
              "0          0-4  train           NaN  \n",
              "1          0-4  train           NaN  \n",
              "2          0-4  train           NaN  \n",
              "3          0-4  train           NaN  \n",
              "4          0-4  train           NaN  \n",
              "\n",
              "[5 rows x 22 columns]"
            ],
            "text/html": [
              "\n",
              "  <div id=\"df-8589f5bf-3d2e-4ff9-b01f-09f3126fa8ca\">\n",
              "    <div class=\"colab-df-container\">\n",
              "      <div>\n",
              "<style scoped>\n",
              "    .dataframe tbody tr th:only-of-type {\n",
              "        vertical-align: middle;\n",
              "    }\n",
              "\n",
              "    .dataframe tbody tr th {\n",
              "        vertical-align: top;\n",
              "    }\n",
              "\n",
              "    .dataframe thead th {\n",
              "        text-align: right;\n",
              "    }\n",
              "</style>\n",
              "<table border=\"1\" class=\"dataframe\">\n",
              "  <thead>\n",
              "    <tr style=\"text-align: right;\">\n",
              "      <th></th>\n",
              "      <th>session_id</th>\n",
              "      <th>index</th>\n",
              "      <th>elapsed_time</th>\n",
              "      <th>event_name</th>\n",
              "      <th>name</th>\n",
              "      <th>level</th>\n",
              "      <th>page</th>\n",
              "      <th>room_coor_x</th>\n",
              "      <th>room_coor_y</th>\n",
              "      <th>screen_coor_x</th>\n",
              "      <th>...</th>\n",
              "      <th>text</th>\n",
              "      <th>fqid</th>\n",
              "      <th>room_fqid</th>\n",
              "      <th>text_fqid</th>\n",
              "      <th>fullscreen</th>\n",
              "      <th>hq</th>\n",
              "      <th>music</th>\n",
              "      <th>level_group</th>\n",
              "      <th>split</th>\n",
              "      <th>session_level</th>\n",
              "    </tr>\n",
              "  </thead>\n",
              "  <tbody>\n",
              "    <tr>\n",
              "      <th>0</th>\n",
              "      <td>20090312431273200</td>\n",
              "      <td>0</td>\n",
              "      <td>0</td>\n",
              "      <td>cutscene_click</td>\n",
              "      <td>basic</td>\n",
              "      <td>0</td>\n",
              "      <td>NaN</td>\n",
              "      <td>-413.991405</td>\n",
              "      <td>-159.314686</td>\n",
              "      <td>380.0</td>\n",
              "      <td>...</td>\n",
              "      <td>undefined</td>\n",
              "      <td>intro</td>\n",
              "      <td>tunic.historicalsociety.closet</td>\n",
              "      <td>tunic.historicalsociety.closet.intro</td>\n",
              "      <td>NaN</td>\n",
              "      <td>NaN</td>\n",
              "      <td>NaN</td>\n",
              "      <td>0-4</td>\n",
              "      <td>train</td>\n",
              "      <td>NaN</td>\n",
              "    </tr>\n",
              "    <tr>\n",
              "      <th>1</th>\n",
              "      <td>20090312431273200</td>\n",
              "      <td>1</td>\n",
              "      <td>1323</td>\n",
              "      <td>person_click</td>\n",
              "      <td>basic</td>\n",
              "      <td>0</td>\n",
              "      <td>NaN</td>\n",
              "      <td>-413.991405</td>\n",
              "      <td>-159.314686</td>\n",
              "      <td>380.0</td>\n",
              "      <td>...</td>\n",
              "      <td>Whatcha doing over there, Jo?</td>\n",
              "      <td>gramps</td>\n",
              "      <td>tunic.historicalsociety.closet</td>\n",
              "      <td>tunic.historicalsociety.closet.gramps.intro_0_...</td>\n",
              "      <td>NaN</td>\n",
              "      <td>NaN</td>\n",
              "      <td>NaN</td>\n",
              "      <td>0-4</td>\n",
              "      <td>train</td>\n",
              "      <td>NaN</td>\n",
              "    </tr>\n",
              "    <tr>\n",
              "      <th>2</th>\n",
              "      <td>20090312431273200</td>\n",
              "      <td>2</td>\n",
              "      <td>831</td>\n",
              "      <td>person_click</td>\n",
              "      <td>basic</td>\n",
              "      <td>0</td>\n",
              "      <td>NaN</td>\n",
              "      <td>-413.991405</td>\n",
              "      <td>-159.314686</td>\n",
              "      <td>380.0</td>\n",
              "      <td>...</td>\n",
              "      <td>Just talking to Teddy.</td>\n",
              "      <td>gramps</td>\n",
              "      <td>tunic.historicalsociety.closet</td>\n",
              "      <td>tunic.historicalsociety.closet.gramps.intro_0_...</td>\n",
              "      <td>NaN</td>\n",
              "      <td>NaN</td>\n",
              "      <td>NaN</td>\n",
              "      <td>0-4</td>\n",
              "      <td>train</td>\n",
              "      <td>NaN</td>\n",
              "    </tr>\n",
              "    <tr>\n",
              "      <th>3</th>\n",
              "      <td>20090312431273200</td>\n",
              "      <td>3</td>\n",
              "      <td>1147</td>\n",
              "      <td>person_click</td>\n",
              "      <td>basic</td>\n",
              "      <td>0</td>\n",
              "      <td>NaN</td>\n",
              "      <td>-413.991405</td>\n",
              "      <td>-159.314686</td>\n",
              "      <td>380.0</td>\n",
              "      <td>...</td>\n",
              "      <td>I gotta run to my meeting!</td>\n",
              "      <td>gramps</td>\n",
              "      <td>tunic.historicalsociety.closet</td>\n",
              "      <td>tunic.historicalsociety.closet.gramps.intro_0_...</td>\n",
              "      <td>NaN</td>\n",
              "      <td>NaN</td>\n",
              "      <td>NaN</td>\n",
              "      <td>0-4</td>\n",
              "      <td>train</td>\n",
              "      <td>NaN</td>\n",
              "    </tr>\n",
              "    <tr>\n",
              "      <th>4</th>\n",
              "      <td>20090312431273200</td>\n",
              "      <td>4</td>\n",
              "      <td>1863</td>\n",
              "      <td>person_click</td>\n",
              "      <td>basic</td>\n",
              "      <td>0</td>\n",
              "      <td>NaN</td>\n",
              "      <td>-412.991405</td>\n",
              "      <td>-159.314686</td>\n",
              "      <td>381.0</td>\n",
              "      <td>...</td>\n",
              "      <td>Can I come, Gramps?</td>\n",
              "      <td>gramps</td>\n",
              "      <td>tunic.historicalsociety.closet</td>\n",
              "      <td>tunic.historicalsociety.closet.gramps.intro_0_...</td>\n",
              "      <td>NaN</td>\n",
              "      <td>NaN</td>\n",
              "      <td>NaN</td>\n",
              "      <td>0-4</td>\n",
              "      <td>train</td>\n",
              "      <td>NaN</td>\n",
              "    </tr>\n",
              "  </tbody>\n",
              "</table>\n",
              "<p>5 rows × 22 columns</p>\n",
              "</div>\n",
              "      <button class=\"colab-df-convert\" onclick=\"convertToInteractive('df-8589f5bf-3d2e-4ff9-b01f-09f3126fa8ca')\"\n",
              "              title=\"Convert this dataframe to an interactive table.\"\n",
              "              style=\"display:none;\">\n",
              "        \n",
              "  <svg xmlns=\"http://www.w3.org/2000/svg\" height=\"24px\"viewBox=\"0 0 24 24\"\n",
              "       width=\"24px\">\n",
              "    <path d=\"M0 0h24v24H0V0z\" fill=\"none\"/>\n",
              "    <path d=\"M18.56 5.44l.94 2.06.94-2.06 2.06-.94-2.06-.94-.94-2.06-.94 2.06-2.06.94zm-11 1L8.5 8.5l.94-2.06 2.06-.94-2.06-.94L8.5 2.5l-.94 2.06-2.06.94zm10 10l.94 2.06.94-2.06 2.06-.94-2.06-.94-.94-2.06-.94 2.06-2.06.94z\"/><path d=\"M17.41 7.96l-1.37-1.37c-.4-.4-.92-.59-1.43-.59-.52 0-1.04.2-1.43.59L10.3 9.45l-7.72 7.72c-.78.78-.78 2.05 0 2.83L4 21.41c.39.39.9.59 1.41.59.51 0 1.02-.2 1.41-.59l7.78-7.78 2.81-2.81c.8-.78.8-2.07 0-2.86zM5.41 20L4 18.59l7.72-7.72 1.47 1.35L5.41 20z\"/>\n",
              "  </svg>\n",
              "      </button>\n",
              "      \n",
              "  <style>\n",
              "    .colab-df-container {\n",
              "      display:flex;\n",
              "      flex-wrap:wrap;\n",
              "      gap: 12px;\n",
              "    }\n",
              "\n",
              "    .colab-df-convert {\n",
              "      background-color: #E8F0FE;\n",
              "      border: none;\n",
              "      border-radius: 50%;\n",
              "      cursor: pointer;\n",
              "      display: none;\n",
              "      fill: #1967D2;\n",
              "      height: 32px;\n",
              "      padding: 0 0 0 0;\n",
              "      width: 32px;\n",
              "    }\n",
              "\n",
              "    .colab-df-convert:hover {\n",
              "      background-color: #E2EBFA;\n",
              "      box-shadow: 0px 1px 2px rgba(60, 64, 67, 0.3), 0px 1px 3px 1px rgba(60, 64, 67, 0.15);\n",
              "      fill: #174EA6;\n",
              "    }\n",
              "\n",
              "    [theme=dark] .colab-df-convert {\n",
              "      background-color: #3B4455;\n",
              "      fill: #D2E3FC;\n",
              "    }\n",
              "\n",
              "    [theme=dark] .colab-df-convert:hover {\n",
              "      background-color: #434B5C;\n",
              "      box-shadow: 0px 1px 3px 1px rgba(0, 0, 0, 0.15);\n",
              "      filter: drop-shadow(0px 1px 2px rgba(0, 0, 0, 0.3));\n",
              "      fill: #FFFFFF;\n",
              "    }\n",
              "  </style>\n",
              "\n",
              "      <script>\n",
              "        const buttonEl =\n",
              "          document.querySelector('#df-8589f5bf-3d2e-4ff9-b01f-09f3126fa8ca button.colab-df-convert');\n",
              "        buttonEl.style.display =\n",
              "          google.colab.kernel.accessAllowed ? 'block' : 'none';\n",
              "\n",
              "        async function convertToInteractive(key) {\n",
              "          const element = document.querySelector('#df-8589f5bf-3d2e-4ff9-b01f-09f3126fa8ca');\n",
              "          const dataTable =\n",
              "            await google.colab.kernel.invokeFunction('convertToInteractive',\n",
              "                                                     [key], {});\n",
              "          if (!dataTable) return;\n",
              "\n",
              "          const docLinkHtml = 'Like what you see? Visit the ' +\n",
              "            '<a target=\"_blank\" href=https://colab.research.google.com/notebooks/data_table.ipynb>data table notebook</a>'\n",
              "            + ' to learn more about interactive tables.';\n",
              "          element.innerHTML = '';\n",
              "          dataTable['output_type'] = 'display_data';\n",
              "          await google.colab.output.renderOutput(dataTable, element);\n",
              "          const docLink = document.createElement('div');\n",
              "          docLink.innerHTML = docLinkHtml;\n",
              "          element.appendChild(docLink);\n",
              "        }\n",
              "      </script>\n",
              "    </div>\n",
              "  </div>\n",
              "  "
            ]
          },
          "metadata": {},
          "execution_count": 6
        }
      ]
    },
    {
      "cell_type": "code",
      "source": [
        "data.shape"
      ],
      "metadata": {
        "colab": {
          "base_uri": "https://localhost:8080/"
        },
        "id": "9mISQvV7TCOG",
        "outputId": "2c26e3f2-b458-4638-ed49-7bfe46aac489"
      },
      "execution_count": 7,
      "outputs": [
        {
          "output_type": "execute_result",
          "data": {
            "text/plain": [
              "(13177939, 22)"
            ]
          },
          "metadata": {},
          "execution_count": 7
        }
      ]
    },
    {
      "cell_type": "markdown",
      "source": [
        "# Preprocesing"
      ],
      "metadata": {
        "id": "AwIu_jH4o3tp"
      }
    },
    {
      "cell_type": "markdown",
      "source": [
        "## Modifications on the data, train test"
      ],
      "metadata": {
        "id": "jaYXnAn0rAdd"
      }
    },
    {
      "cell_type": "markdown",
      "source": [
        "Modification to make it easier to use the data set"
      ],
      "metadata": {
        "id": "rzdIrHyXrZsO"
      }
    },
    {
      "cell_type": "code",
      "source": [],
      "metadata": {
        "id": "3NaYOsWXrA6H"
      },
      "execution_count": null,
      "outputs": []
    },
    {
      "cell_type": "markdown",
      "source": [
        "## Tran labels + question column"
      ],
      "metadata": {
        "id": "3JXLSQdaqvP2"
      }
    },
    {
      "cell_type": "markdown",
      "source": [
        "This bloc is to access the labels with the results more easily"
      ],
      "metadata": {
        "id": "_9hE8kJgrih4"
      }
    },
    {
      "cell_type": "code",
      "source": [
        "train_labels.shape"
      ],
      "metadata": {
        "colab": {
          "base_uri": "https://localhost:8080/"
        },
        "id": "-20Wuk_bTTRF",
        "outputId": "fdea71aa-27a3-4e3f-87cb-855fc789b6e2"
      },
      "execution_count": 8,
      "outputs": [
        {
          "output_type": "execute_result",
          "data": {
            "text/plain": [
              "(212022, 2)"
            ]
          },
          "metadata": {},
          "execution_count": 8
        }
      ]
    },
    {
      "cell_type": "code",
      "source": [
        "train_labels_question = train_labels.copy()\n",
        "train_labels_question[['session_id','question']] = train_labels_question['session_id'].str.split('_', expand=True)\n",
        "print(train_labels_question)"
      ],
      "metadata": {
        "colab": {
          "base_uri": "https://localhost:8080/"
        },
        "id": "F-thZQFFhayH",
        "outputId": "31e6521f-3351-432c-dea0-e6ab94912bd6"
      },
      "execution_count": 9,
      "outputs": [
        {
          "output_type": "stream",
          "name": "stdout",
          "text": [
            "               session_id  correct question\n",
            "0       20090312431273200        1       q1\n",
            "1       20090312433251036        0       q1\n",
            "2       20090314121766812        1       q1\n",
            "3       20090314363702160        1       q1\n",
            "4       20090314441803444        1       q1\n",
            "...                   ...      ...      ...\n",
            "212017  22100215342220508        1      q18\n",
            "212018  22100215460321130        1      q18\n",
            "212019  22100217104993650        1      q18\n",
            "212020  22100219442786200        1      q18\n",
            "212021  22100221145014656        1      q18\n",
            "\n",
            "[212022 rows x 3 columns]\n"
          ]
        }
      ]
    },
    {
      "cell_type": "code",
      "source": [],
      "metadata": {
        "id": "zD3r4Fu3nf-j"
      },
      "execution_count": null,
      "outputs": []
    },
    {
      "cell_type": "markdown",
      "source": [
        "## Feature engineering (if no DL)"
      ],
      "metadata": {
        "id": "xKmH6uAUo9KF"
      }
    },
    {
      "cell_type": "code",
      "source": [],
      "metadata": {
        "id": "tAU8q6Bco3cs"
      },
      "execution_count": null,
      "outputs": []
    },
    {
      "cell_type": "markdown",
      "source": [
        "## Missing values "
      ],
      "metadata": {
        "id": "UWlg8JckpE39"
      }
    },
    {
      "cell_type": "markdown",
      "source": [
        "We will have to handle missing values differently according to the type."
      ],
      "metadata": {
        "id": "Qp5fVhQnrSgS"
      }
    },
    {
      "cell_type": "code",
      "source": [
        "print(data.isna().sum())\n",
        "\"\"\"\n",
        "for clm in data:\n",
        "  try :\n",
        "    mean = data[clm].mean()\n",
        "    data[clm] = data[clm].fillna(mean)\n",
        "  except : \n",
        "    pass\n",
        "  \"\"\""
      ],
      "metadata": {
        "colab": {
          "base_uri": "https://localhost:8080/",
          "height": 452
        },
        "id": "TjzSBLdzpFKF",
        "outputId": "81593049-04be-491f-8eb6-b44051416ad9"
      },
      "execution_count": 10,
      "outputs": [
        {
          "output_type": "stream",
          "name": "stdout",
          "text": [
            "session_id               0\n",
            "index                    0\n",
            "elapsed_time             0\n",
            "event_name               0\n",
            "name                     0\n",
            "level                    0\n",
            "page              12893040\n",
            "room_coor_x        1036602\n",
            "room_coor_y        1036602\n",
            "screen_coor_x      1036602\n",
            "screen_coor_y      1036602\n",
            "hover_duration    12176849\n",
            "text               8369886\n",
            "fqid               4160871\n",
            "room_fqid                0\n",
            "text_fqid          8369832\n",
            "fullscreen        13177939\n",
            "hq                13177939\n",
            "music             13177939\n",
            "level_group              0\n",
            "split                    0\n",
            "session_level     13174211\n",
            "dtype: int64\n"
          ]
        },
        {
          "output_type": "execute_result",
          "data": {
            "text/plain": [
              "'\\nfor clm in data:\\n  try :\\n    mean = data[clm].mean()\\n    data[clm] = data[clm].fillna(mean)\\n  except : \\n    pass\\n  '"
            ],
            "application/vnd.google.colaboratory.intrinsic+json": {
              "type": "string"
            }
          },
          "metadata": {},
          "execution_count": 10
        }
      ]
    },
    {
      "cell_type": "markdown",
      "source": [
        "## Outliers"
      ],
      "metadata": {
        "id": "LjsLVRRMpIP-"
      }
    },
    {
      "cell_type": "code",
      "source": [],
      "metadata": {
        "id": "wTkUOhONpIpL"
      },
      "execution_count": null,
      "outputs": []
    },
    {
      "cell_type": "markdown",
      "source": [
        "# Visualization "
      ],
      "metadata": {
        "id": "e7GwO-jgrrnt"
      }
    },
    {
      "cell_type": "code",
      "source": [],
      "metadata": {
        "id": "ho2CWI2vrsT-"
      },
      "execution_count": null,
      "outputs": []
    },
    {
      "cell_type": "markdown",
      "source": [
        "# Dimension reduction"
      ],
      "metadata": {
        "id": "a6K7Vy4PrzaD"
      }
    },
    {
      "cell_type": "code",
      "source": [],
      "metadata": {
        "id": "RBwuvEg9rzwJ"
      },
      "execution_count": null,
      "outputs": []
    }
  ]
}